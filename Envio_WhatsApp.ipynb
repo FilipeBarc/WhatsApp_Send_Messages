{
 "cells": [
  {
   "cell_type": "code",
   "execution_count": 83,
   "id": "3dc1da5c",
   "metadata": {},
   "outputs": [],
   "source": [
    "from selenium import webdriver\n",
    "from selenium.webdriver.common.by import By\n",
    "from selenium.webdriver.common.keys import Keys\n",
    "import pandas as pd\n",
    "import urllib\n",
    "import time\n",
    "import os\n",
    "import random"
   ]
  },
  {
   "cell_type": "code",
   "execution_count": 66,
   "id": "6ccaa972",
   "metadata": {},
   "outputs": [],
   "source": [
    "nav = webdriver.Chrome()\n",
    "nav.get('http://web.whatsapp.com')\n",
    "\n",
    "while len(nav.find_elements(By.ID,'side'))<1:\n",
    "    time.sleep(1)\n",
    "time.sleep(2)"
   ]
  },
  {
   "cell_type": "code",
   "execution_count": 67,
   "id": "bef71d29",
   "metadata": {},
   "outputs": [
    {
     "data": {
      "text/html": [
       "<div>\n",
       "<style scoped>\n",
       "    .dataframe tbody tr th:only-of-type {\n",
       "        vertical-align: middle;\n",
       "    }\n",
       "\n",
       "    .dataframe tbody tr th {\n",
       "        vertical-align: top;\n",
       "    }\n",
       "\n",
       "    .dataframe thead th {\n",
       "        text-align: right;\n",
       "    }\n",
       "</style>\n",
       "<table border=\"1\" class=\"dataframe\">\n",
       "  <thead>\n",
       "    <tr style=\"text-align: right;\">\n",
       "      <th></th>\n",
       "      <th>Nome</th>\n",
       "      <th>Mensagem</th>\n",
       "      <th>Telefone</th>\n",
       "    </tr>\n",
       "  </thead>\n",
       "  <tbody>\n",
       "    <tr>\n",
       "      <th>0</th>\n",
       "      <td>Filipe</td>\n",
       "      <td>Fala ae fulano</td>\n",
       "      <td>61481349397</td>\n",
       "    </tr>\n",
       "    <tr>\n",
       "      <th>1</th>\n",
       "      <td>Filipe Barcellos</td>\n",
       "      <td>Fala ae fulano</td>\n",
       "      <td>5511942879402</td>\n",
       "    </tr>\n",
       "    <tr>\n",
       "      <th>2</th>\n",
       "      <td>Greice</td>\n",
       "      <td>Fala ae fulano</td>\n",
       "      <td>5551998429045</td>\n",
       "    </tr>\n",
       "  </tbody>\n",
       "</table>\n",
       "</div>"
      ],
      "text/plain": [
       "               Nome        Mensagem       Telefone\n",
       "0            Filipe  Fala ae fulano    61481349397\n",
       "1  Filipe Barcellos  Fala ae fulano  5511942879402\n",
       "2            Greice  Fala ae fulano  5551998429045"
      ]
     },
     "execution_count": 67,
     "metadata": {},
     "output_type": "execute_result"
    }
   ],
   "source": [
    "df = pd.read_excel('Teste.xlsx')\n",
    "df"
   ]
  },
  {
   "cell_type": "code",
   "execution_count": 82,
   "id": "c6ffb37f",
   "metadata": {},
   "outputs": [],
   "source": [
    "caminho = os.path.abspath('Arquivos/Photo.png')\n",
    "botao_enviar_mensagem = '//*[@id=\"main\"]/footer/div[1]/div/span[2]/div/div[2]/div[2]/button/span'\n",
    "botao_anexar = '//*[@id=\"main\"]/footer/div[1]/div/span[2]/div/div[1]/div[2]/div/div/div/span'\n",
    "texto_caminho = '//*[@id=\"main\"]/footer/div[1]/div/span[2]/div/div[1]/div[2]/div/span/div/ul/div/div[2]/li/div/input'\n",
    "texto_anexo = '//*[@id=\"app\"]/div/div[2]/div[2]/div[2]/span/div/span/div/div/div[2]/div/div[1]/div[3]/div/div/div[2]/div[1]/div[1]'\n",
    "botao_enviar_anexo = '//*[@id=\"app\"]/div/div[2]/div[2]/div[2]/span/div/span/div/div/div[2]/div/div[2]/div[2]/div/div/span'\n",
    "\n",
    "for i in df.index:\n",
    "    \n",
    "    nome = df.loc[i,'Nome']\n",
    "    mensagem = df.loc[i,'Mensagem']\n",
    "    telefone = df.loc[i,'Telefone']\n",
    "    \n",
    "    mensagem = mensagem.replace('fulano',nome)\n",
    "    texto = urllib.parse.quote(mensagem)\n",
    "    \n",
    "    link = f'http://web.whatsapp.com/send?phone={telefone}&text={texto}'\n",
    "    nav.get(link)\n",
    "        \n",
    "    while len(nav.find_elements(\n",
    "        By.XPATH,botao_enviar_mensagem))<1:\n",
    "        time.sleep(1)\n",
    "    time.sleep(random.uniform(1, 10))\n",
    "        \n",
    "    nav.find_element(By.XPATH,botao_enviar_mensagem).click()\n",
    "    time.sleep(random.uniform(1, 10))\n",
    "    \n",
    "    nav.find_element(By.XPATH,botao_anexar).click()\n",
    "    \n",
    "    nav.find_element(By.XPATH,texto_caminho).send_keys(caminho)\n",
    "    time.sleep(random.uniform(1, 10))\n",
    "    \n",
    "    nav.find_element(By.XPATH,texto_anexo).send_keys(mensagem)\n",
    "    \n",
    "    while len(nav.find_elements(By.XPATH,botao_enviar_anexo))<1:\n",
    "        time.sleep(1)\n",
    "    nav.find_element(By.XPATH,botao_enviar_anexo).click()\n",
    "    time.sleep(random.uniform(1, 10))\n"
   ]
  },
  {
   "cell_type": "code",
   "execution_count": null,
   "id": "37ba4162",
   "metadata": {},
   "outputs": [],
   "source": []
  },
  {
   "cell_type": "code",
   "execution_count": null,
   "id": "67d7dc5e",
   "metadata": {},
   "outputs": [],
   "source": []
  },
  {
   "cell_type": "code",
   "execution_count": null,
   "id": "a12271cf",
   "metadata": {},
   "outputs": [],
   "source": []
  }
 ],
 "metadata": {
  "kernelspec": {
   "display_name": "Python 3 (ipykernel)",
   "language": "python",
   "name": "python3"
  },
  "language_info": {
   "codemirror_mode": {
    "name": "ipython",
    "version": 3
   },
   "file_extension": ".py",
   "mimetype": "text/x-python",
   "name": "python",
   "nbconvert_exporter": "python",
   "pygments_lexer": "ipython3",
   "version": "3.10.9"
  }
 },
 "nbformat": 4,
 "nbformat_minor": 5
}
