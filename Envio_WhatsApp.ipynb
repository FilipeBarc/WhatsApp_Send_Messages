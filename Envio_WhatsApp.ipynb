{
 "cells": [
  {
   "cell_type": "code",
   "execution_count": null,
   "id": "3dc1da5c",
   "metadata": {},
   "outputs": [],
   "source": [
    "from selenium import webdriver\n",
    "from selenium.webdriver.common.by import By\n",
    "from selenium.webdriver.common.keys import Keys\n",
    "import pandas as pd\n",
    "import urllib\n",
    "import time\n",
    "import os\n",
    "import random"
   ]
  },
  {
   "cell_type": "code",
   "execution_count": null,
   "id": "6ccaa972",
   "metadata": {},
   "outputs": [],
   "source": [
    "nav = webdriver.Chrome()\n",
    "nav.get('http://web.whatsapp.com')\n",
    "\n",
    "while len(nav.find_elements(By.ID,'side'))<1:\n",
    "    time.sleep(1)\n",
    "time.sleep(2)"
   ]
  },
  {
   "cell_type": "code",
   "execution_count": null,
   "id": "bef71d29",
   "metadata": {},
   "outputs": [],
   "source": [
    "df = pd.read_excel('Teste.xlsx')\n",
    "df"
   ]
  },
  {
   "cell_type": "code",
   "execution_count": null,
   "id": "c6ffb37f",
   "metadata": {},
   "outputs": [],
   "source": [
    "caminho = os.path.abspath('Arquivos/Photo.png')\n",
    "botao_enviar_mensagem = '//*[@id=\"main\"]/footer/div[1]/div/span[2]/div/div[2]/div[2]/button/span'\n",
    "botao_anexar = '//*[@id=\"main\"]/footer/div[1]/div/span[2]/div/div[1]/div[2]/div/div/div/span'\n",
    "texto_caminho = '//*[@id=\"main\"]/footer/div[1]/div/span[2]/div/div[1]/div[2]/div/span/div/ul/div/div[2]/li/div/input'\n",
    "texto_anexo = '//*[@id=\"app\"]/div/div[2]/div[2]/div[2]/span/div/span/div/div/div[2]/div/div[1]/div[3]/div/div/div[2]/div[1]/div[1]'\n",
    "botao_enviar_anexo = '//*[@id=\"app\"]/div/div[2]/div[2]/div[2]/span/div/span/div/div/div[2]/div/div[2]/div[2]/div/div/span'\n",
    "\n",
    "for i in df.index:\n",
    "    \n",
    "    nome = df.loc[i,'Nome']\n",
    "    mensagem = df.loc[i,'Mensagem']\n",
    "    telefone = df.loc[i,'Telefone']\n",
    "    \n",
    "    mensagem = mensagem.replace('fulano',nome)\n",
    "    texto = urllib.parse.quote(mensagem)\n",
    "    \n",
    "    link = f'http://web.whatsapp.com/send?phone={telefone}&text={texto}'\n",
    "    nav.get(link)\n",
    "        \n",
    "    while len(nav.find_elements(\n",
    "        By.XPATH,botao_enviar_mensagem))<1:\n",
    "        time.sleep(1)\n",
    "    time.sleep(random.uniform(1, 10))\n",
    "        \n",
    "    nav.find_element(By.XPATH,botao_enviar_mensagem).click()\n",
    "    time.sleep(random.uniform(1, 10))\n",
    "    \n",
    "    nav.find_element(By.XPATH,botao_anexar).click()\n",
    "    \n",
    "    nav.find_element(By.XPATH,texto_caminho).send_keys(caminho)\n",
    "    time.sleep(random.uniform(1, 10))\n",
    "    \n",
    "    nav.find_element(By.XPATH,texto_anexo).send_keys(mensagem)\n",
    "    \n",
    "    while len(nav.find_elements(By.XPATH,botao_enviar_anexo))<1:\n",
    "        time.sleep(1)\n",
    "    nav.find_element(By.XPATH,botao_enviar_anexo).click()\n",
    "    time.sleep(random.uniform(1, 10))\n"
   ]
  },
  {
   "cell_type": "code",
   "execution_count": null,
   "id": "37ba4162",
   "metadata": {},
   "outputs": [],
   "source": []
  },
  {
   "cell_type": "code",
   "execution_count": null,
   "id": "67d7dc5e",
   "metadata": {},
   "outputs": [],
   "source": []
  },
  {
   "cell_type": "code",
   "execution_count": null,
   "id": "a12271cf",
   "metadata": {},
   "outputs": [],
   "source": []
  }
 ],
 "metadata": {
  "kernelspec": {
   "display_name": "Python 3 (ipykernel)",
   "language": "python",
   "name": "python3"
  },
  "language_info": {
   "codemirror_mode": {
    "name": "ipython",
    "version": 3
   },
   "file_extension": ".py",
   "mimetype": "text/x-python",
   "name": "python",
   "nbconvert_exporter": "python",
   "pygments_lexer": "ipython3",
   "version": "3.10.9"
  }
 },
 "nbformat": 4,
 "nbformat_minor": 5
}
